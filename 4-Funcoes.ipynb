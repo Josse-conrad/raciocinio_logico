{
  "nbformat": 4,
  "nbformat_minor": 0,
  "metadata": {
    "colab": {
      "name": "Funções.ipynb",
      "provenance": []
    },
    "kernelspec": {
      "name": "python3",
      "display_name": "Python 3"
    },
    "language_info": {
      "name": "python"
    }
  },
  "cells": [
    {
      "cell_type": "code",
      "metadata": {
        "id": "-4fH0a4Nzy1p"
      },
      "source": [
        "\"\"\"\n",
        "def nome_da_funcao(argumento1, argumento2, ..., argumentoN):\n",
        "    corpo da funcao\n",
        "    ...\n",
        "    return valor1, valor2, ..., valorN\n",
        "\"\"\""
      ],
      "execution_count": null,
      "outputs": []
    },
    {
      "cell_type": "code",
      "metadata": {
        "id": "IYdrEtzT2vUe"
      },
      "source": [
        "def hello(nome=\"Lucas\", idade=\"23\", profissao=\"estudante\"):\n",
        "  return f\"Hello World, {nome}. Você tem {idade} anos e é {profissao}\""
      ],
      "execution_count": null,
      "outputs": []
    },
    {
      "cell_type": "code",
      "metadata": {
        "colab": {
          "base_uri": "https://localhost:8080/"
        },
        "id": "Z07i3a2NYYxX",
        "outputId": "99d481f0-3f63-4e9e-8e17-e97503d481b4"
      },
      "source": [
        "mensagem = hello(profissao=\"Programador\")\n",
        "print(mensagem)"
      ],
      "execution_count": null,
      "outputs": [
        {
          "output_type": "stream",
          "name": "stdout",
          "text": [
            "Hello World, Lucas. Você tem 23 anos e é Programador\n"
          ]
        }
      ]
    },
    {
      "cell_type": "code",
      "metadata": {
        "id": "jKmqfAgvz8Cu",
        "colab": {
          "base_uri": "https://localhost:8080/"
        },
        "outputId": "b18c980f-470d-41bf-b5de-82006084f941"
      },
      "source": [
        "# Exemplo: ler 3 números diferentes e retornar a multiplicação dos números na\n",
        "# lista \"listaN\" por cada um desses números. (Retornar 3 listas)\n",
        "listaN = [1, 2, 3, 4, 5, 6, 7, 8, 9, 10]\n",
        "\n",
        "# Sem função\n",
        "n1 = float(input(\"Digite um número: \"))\n",
        "n2 = float(input(\"Digite um número: \"))\n",
        "n3 = float(input(\"Digite um número: \"))\n",
        "listaN_N1 = []\n",
        "listaN_N2 = []\n",
        "listaN_N3 = []\n",
        "for n in listaN:\n",
        "  listaN_N1.append(n*n1)\n",
        "  listaN_N2.append(n*n2)\n",
        "  listaN_N3.append(n*n3)\n",
        "\n",
        "\n",
        "# Usando função\n"
      ],
      "execution_count": null,
      "outputs": [
        {
          "output_type": "stream",
          "name": "stdout",
          "text": [
            "Digite um número: 1\n",
            "Digite um número: 2\n",
            "Digite um número: 3\n",
            "[1.0, 2.0, 3.0, 4.0, 5.0, 6.0, 7.0, 8.0, 9.0, 10.0]\n",
            "[2.0, 4.0, 6.0, 8.0, 10.0, 12.0, 14.0, 16.0, 18.0, 20.0]\n",
            "[3.0, 6.0, 9.0, 12.0, 15.0, 18.0, 21.0, 24.0, 27.0, 30.0]\n"
          ]
        }
      ]
    },
    {
      "cell_type": "code",
      "metadata": {
        "id": "4yBp3P5U4JJP"
      },
      "source": [
        "# Exemplo: receba um número e retorne o fatorial dele"
      ],
      "execution_count": null,
      "outputs": []
    },
    {
      "cell_type": "code",
      "metadata": {
        "colab": {
          "base_uri": "https://localhost:8080/"
        },
        "id": "75V6ZhjZ6pnE",
        "outputId": "8b9d6e98-aada-43ca-90de-1e6eafbe1f50"
      },
      "source": [
        "# Exercício 1: crie uma função que receba um lista de números e retorna\n",
        "# a soma de todos os números\n"
      ],
      "execution_count": null,
      "outputs": [
        {
          "output_type": "execute_result",
          "data": {
            "text/plain": [
              "179"
            ]
          },
          "metadata": {},
          "execution_count": 52
        }
      ]
    },
    {
      "cell_type": "code",
      "metadata": {
        "id": "7L5pMD9I7g_C"
      },
      "source": [
        "# Exercício 2: crie uma função que converta um número de °F para °C e que possa \n",
        "# fazer o processo contrário também"
      ],
      "execution_count": null,
      "outputs": []
    },
    {
      "cell_type": "code",
      "metadata": {
        "colab": {
          "base_uri": "https://localhost:8080/"
        },
        "id": "MIORon3Nku_B",
        "outputId": "82731421-da46-4455-b4e4-c27b65dc5c27"
      },
      "source": [
        ""
      ],
      "execution_count": null,
      "outputs": [
        {
          "output_type": "execute_result",
          "data": {
            "text/plain": [
              "-17.77777777777778"
            ]
          },
          "metadata": {},
          "execution_count": 74
        }
      ]
    }
  ]
}
