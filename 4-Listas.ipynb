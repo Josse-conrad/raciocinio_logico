{
  "nbformat": 4,
  "nbformat_minor": 0,
  "metadata": {
    "colab": {
      "name": "Listas.ipynb",
      "provenance": [],
      "collapsed_sections": []
    },
    "kernelspec": {
      "name": "python3",
      "display_name": "Python 3"
    },
    "language_info": {
      "name": "python"
    }
  },
  "cells": [
    {
      "cell_type": "code",
      "metadata": {
        "id": "-4fH0a4Nzy1p"
      },
      "source": [
        "# @markdown > <h2>Listas:</h2><p>São estruturas de dados em Python que podem ser usadas para armazenar outros dados.</p><br><table style=\"text-align: right\"> <thead> <th>1</th> <th>3</th> <th>1</th> <th>5</th> <th>6.1</th> <th>19.2</th> <th>\"Python\"</th> </thrad> <tbody> <td>0</td> <td>1</td> <td>2</td> <td>3</td> <td>4</td> <td>5</td> <td>6</td> </tbody></table><br><a href=\"https://docs.python.org/pt-br/3/tutorial/datastructures.html\">Documentação sobre listas</a>\n",
        "\n",
        "\n",
        "lista = [ 1, 3, 1, 5, 6.1, 19.2, \"Python\"]\n",
        "print(lista)\n",
        "print(lista[5])\n",
        "print(lista[0])\n",
        "print(lista[-1])\n",
        "print(lista[2:4])\n"
      ],
      "execution_count": null,
      "outputs": []
    },
    {
      "cell_type": "code",
      "metadata": {
        "id": "jKmqfAgvz8Cu"
      },
      "source": [
        "for value in lista:\n",
        "  print(value)"
      ],
      "execution_count": null,
      "outputs": []
    },
    {
      "cell_type": "code",
      "metadata": {
        "id": "sqQmOuwB0AF1"
      },
      "source": [
        "for index, value in enumerate(lista):\n",
        "  print(f\"{index}: {value}\")"
      ],
      "execution_count": null,
      "outputs": []
    },
    {
      "cell_type": "code",
      "metadata": {
        "id": "l-xQfeZHUVEI"
      },
      "source": [
        "# lista.pop(2) # remove o último item da lista\n",
        "# lista.remove(19.2) # remove o valor definido de dentro da lista\n",
        "# lista.append(\"Oi\") # adiciona um valor ao final da lista\n",
        "# lista.extend([1,2,3,4,5]) # adiciona vários valores no final da lista\n",
        "lista.index(6.1) # retorna o índice do valor x"
      ],
      "execution_count": null,
      "outputs": []
    },
    {
      "cell_type": "code",
      "metadata": {
        "id": "zR5qw1PIcHQ0"
      },
      "source": [
        "lista"
      ],
      "execution_count": null,
      "outputs": []
    },
    {
      "cell_type": "code",
      "metadata": {
        "id": "e-X6en5OXSXF"
      },
      "source": [
        "nomes = [\"Lucas\", \"Pedro\", \"Matheus\", \"André\", \"Yasmin\", \"João\"]\n",
        "print(nomes)\n",
        "nomes.sort()\n",
        "print(nomes)\n",
        "nomes.reverse()\n",
        "print(nomes)"
      ],
      "execution_count": null,
      "outputs": []
    },
    {
      "cell_type": "code",
      "metadata": {
        "id": "uiqnwIR00GrB"
      },
      "source": [
        "# Exercício 1: Retorne os primeiros 3 números dentro da lista numeros que\n",
        "# atendam os requisitos a seguir:\n",
        "# 1. Seja divisível por 25\n",
        "# 2. É par\n"
      ],
      "execution_count": null,
      "outputs": []
    },
    {
      "cell_type": "code",
      "metadata": {
        "id": "O-ZMaRJ8WBQf"
      },
      "source": [
        "# Exercício 2: Leia 3 notas de um aluno e coloque-as dentro de uma lista. \n",
        "# Retorne a média e seu status, de acordo com as condições a seguir:\n",
        "# nota >= 7: Aprovado\n",
        "# nota < 5: Reprovado\n",
        "# nota >= 5 e <7: Recuperação\n",
        "\n",
        "# Use uma lista para armazenar as notas e um for para pedir os dados\n"
      ],
      "execution_count": null,
      "outputs": []
    },
    {
      "cell_type": "code",
      "metadata": {
        "id": "jxQ2tlVUWfd2"
      },
      "source": [
        "# Exercício 3: Faça um script que leia um número N do usuário e em seguida peça\n",
        "# para que ele digite os nomes de N pessoas, após isso. Imprima na tela todos os\n",
        "# nomes em ordem alfabética. \n",
        "\n"
      ],
      "execution_count": null,
      "outputs": []
    },
    {
      "cell_type": "code",
      "metadata": {
        "id": "kKtcs3zWoQ3x"
      },
      "source": [
        ""
      ],
      "execution_count": null,
      "outputs": []
    }
  ]
}