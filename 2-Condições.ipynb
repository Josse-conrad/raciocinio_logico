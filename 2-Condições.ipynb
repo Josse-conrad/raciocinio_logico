{
  "nbformat": 4,
  "nbformat_minor": 5,
  "metadata": {
    "kernelspec": {
      "display_name": "Python 3",
      "language": "python",
      "name": "python3"
    },
    "language_info": {
      "codemirror_mode": {
        "name": "ipython",
        "version": 3
      },
      "file_extension": ".py",
      "mimetype": "text/x-python",
      "name": "python",
      "nbconvert_exporter": "python",
      "pygments_lexer": "ipython3",
      "version": "3.9.5"
    },
    "colab": {
      "name": "Aula 3 - Condições.ipynb",
      "provenance": [],
      "collapsed_sections": []
    }
  },
  "cells": [
    {
      "cell_type": "markdown",
      "source": [
        "<h1>\n",
        "    Controlando o fluxo do nosso código com condicionais\n",
        "</h1>\n",
        "\n",
        "[![Open In Colab](https://colab.research.google.com/assets/colab-badge.svg)](https://colab.research.google.com/github/LucasMazei/raciocinio_logico/blob/main/2-Condi%C3%A7%C3%B5es.ipynb)"
      ],
      "metadata": {
        "id": "jPLJFVTNcXde"
      }
    },
    {
      "cell_type": "code",
      "execution_count": null,
      "source": [
        "# @markdown > <h2>Operações lógicas:</h2><table> <thead> <tr> <th><p>Operação</p></th> <th><p>Resultado</p></th> </tr> </thead> <tbody> <tr> <td><code>x == y</code></td> <td><b style=\"color: greenyellow\">True</b> se x for igual à y</td> </tr> <tr> <td><code>x != y</code></td> <td><b style=\"color: greenyellow\">True</b> se x for difirente de y</td> </tr> <tr> <td><code>x &lt y</code></td> <td><b style=\"color: greenyellow\">True</b> se x for menor que y</td> </tr> <tr> <td><code>x &gt y</code></td> <td><b style=\"color: greenyellow\">True</b> se x for maior que y</td> </tr> <tr> <td><code>x &lt= y</code></td> <td><b style=\"color: greenyellow\">True</b> se x for menor ou igual à y</td> </tr> <tr> <td><code>x &gt= y</code></td> <td><b style=\"color: greenyellow\">True</b> se x for maior ou igual à y</td> </tr> <tr> <td><code>x and y</code></td> <td><b style=\"color: greenyellow\">True</b> se x e y forem verdadeiros</td> </tr> <tr> <td><code>x or y</code></td> <td><b style=\"color: greenyellow\">True</b> se x ou y forem verdadeiros</td> </tr> <tr> <td><code>not x</code></td> <td><b style=\"color: greenyellow\">True</b> se x não for verdadeiro</td> </tr> </tbody></table><br /><a href=\"https://docs.python.org/pt-br/3/library/operator.html?highlight=operators#mapping-operators-to-functions\" >Mais informações</a>\n",
        "\n",
        "print(1 == 2)   # False\n",
        "print(1 != 2)   # True\n",
        "print(1 < 2)      # True\n",
        "print(1 > 2)      # False\n",
        "print(1 <= 1)     # True\n",
        "print(1 >= 15)     # False\n",
        "\n",
        "print(\"----\")\n",
        "\n",
        "print( (1<2) and (2<3) ) # True\n",
        "print( (2<1) or (2<3) ) # True\n",
        "print(True and False) # False\n",
        "print(True or False)  # True\n",
        "print(not True)       # False"
      ],
      "outputs": [],
      "metadata": {
        "id": "VcWZAAKrmoUh"
      }
    },
    {
      "cell_type": "code",
      "execution_count": null,
      "source": [
        "# 1   - True\n",
        "# 0   - False\n",
        "# and - *\n",
        "# or  - +\n",
        "\n",
        "# x  y  and  or\n",
        "# 0  0   0   0\n",
        "# 0  1   0   1\n",
        "# 1  0   0   1\n",
        "# 1  1   1   1"
      ],
      "outputs": [],
      "metadata": {
        "id": "kUu7z9_gzIM1"
      }
    },
    {
      "cell_type": "markdown",
      "source": [
        "```\n",
        "if condicao_1:    # Caso condição 1 seja verdadeira\n",
        "  codigo_1        # Faça isso\n",
        "\n",
        "elif condicao_2:  # Caso 1 seja falso, mas 2 seja verdadeira\n",
        "  codigo_2        # Faça isso\n",
        "\n",
        "elif condicao_3:  # Caso 1 e 2 sejam falsas, mas 3 seja verdadeira\n",
        "  codigo_3        # Faça isso\n",
        "\n",
        "...\n",
        "\n",
        "elif condicao_n:  # Caso 1, 2, 3, ... sejam falsas, mas n seja verdadeira\n",
        "  codigo_n        # Faça isso\n",
        "  \n",
        "else:             # Caso nenhuma condição seja atendida\n",
        "  codigo_final    # Faça isso\n",
        "```\n",
        "\n"
      ],
      "metadata": {
        "id": "wfb-0oyJg_iG"
      }
    },
    {
      "cell_type": "code",
      "execution_count": null,
      "source": [
        "x = 1\n",
        "y = int(input(\"Digite um número: \"))\n",
        "\n",
        "if x == y:\n",
        "  print(f\"{x} é igual a {y}\")\n",
        "else:\n",
        "  print(f\"{x} é diferente de {y}\")"
      ],
      "outputs": [],
      "metadata": {
        "id": "FeGUoZuHvnfo"
      }
    },
    {
      "cell_type": "code",
      "execution_count": null,
      "source": [
        "# Exercício 1:\n",
        "# Faça um script que recebe a idade de uma pessoa e imprime a qual faixa etária\n",
        "# ela pertence.\n",
        "# Faixas etárias do exercício: 0-5, 6-10, 11-15, 16-20, 21-25, 26-30, >30"
      ],
      "outputs": [],
      "metadata": {
        "id": "LR6qV74pqSlb"
      }
    },
    {
      "cell_type": "code",
      "execution_count": null,
      "source": [
        "# Exercício 2: \n",
        "# Faça um script que recebe um número inteiro e retorna para o usuário se o\n",
        "# número é impar ou par.\n"
      ],
      "outputs": [],
      "metadata": {
        "id": "HKq-q2tNuWe-"
      }
    },
    {
      "cell_type": "code",
      "execution_count": null,
      "source": [
        "# Exercício 3:\n",
        "# Faça um script que recebe o nome e a idade de 2 pessoas e retorna para o\n",
        "# usuário qual é mais velha.\n"
      ],
      "outputs": [],
      "metadata": {
        "id": "k5q1sX8lvXzC"
      }
    },
    {
      "cell_type": "code",
      "execution_count": null,
      "source": [
        "# Exercício 4: \n",
        "# Faça um script que recebe o nome e as 4 notas de um aluno. Retorne a média\n",
        "# e seu status, de acordo com as condições a seguir.\n",
        "# nota >= 7: Aprovado\n",
        "# nota <= 5: Reprovado\n",
        "# nota > 5 e <7: Recuperação\n"
      ],
      "outputs": [],
      "metadata": {
        "id": "dbVdARvzuoLr"
      }
    }
  ]
}