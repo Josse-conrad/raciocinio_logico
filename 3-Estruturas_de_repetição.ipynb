{
  "nbformat": 4,
  "nbformat_minor": 2,
  "metadata": {
    "colab": {
      "name": "Estruturas de repetição.ipynb",
      "provenance": [],
      "collapsed_sections": []
    },
    "kernelspec": {
      "name": "python3",
      "display_name": "Python 3"
    },
    "language_info": {
      "name": "python"
    }
  },
  "cells": [
    {
      "cell_type": "markdown",
      "source": [
        "<h1>\n",
        "    Estruturas de repetição\n",
        "</h1>\n"
      ],
      "metadata": {}
    },
    {
      "cell_type": "code",
      "execution_count": null,
      "source": [
        "# Quais são os números de 1 a 10"
      ],
      "outputs": [],
      "metadata": {
        "id": "jwlUcd0gcj9I"
      }
    },
    {
      "cell_type": "code",
      "execution_count": null,
      "source": [
        "# Quais são os números ímpares entre 0 e 100"
      ],
      "outputs": [],
      "metadata": {
        "id": "4Fr8oPlTlWTO"
      }
    },
    {
      "cell_type": "code",
      "execution_count": null,
      "source": [
        "# Break, continue, pass\n",
        "\n",
        "# for i in range(10):\n",
        "  # if i == 5:\n",
        "    # pass\n",
        "  # print(i, end=\" \")\n",
        "  \n",
        "# for i in range(10):\n",
        "#   if i == 5:\n",
        "#     continue\n",
        "#   print(i, end=\" \")\n",
        "\n",
        "for i in range(10):\n",
        "  if i == 1:\n",
        "    break\n",
        "  print(i, end=\" \")\n"
      ],
      "outputs": [],
      "metadata": {
        "id": "fRvBWVdj98Zd"
      }
    },
    {
      "cell_type": "code",
      "execution_count": null,
      "source": [
        "# Exercício 1: Faça um script que recebe um número inteiro e retorna o fatorial\n",
        "#              deste número (use while)"
      ],
      "outputs": [],
      "metadata": {
        "id": "EF7g_3XD9_Vv"
      }
    },
    {
      "cell_type": "code",
      "execution_count": null,
      "source": [
        "# Exercício 2: Faça um script que recebe um número inteiro e retorna a tabuada\n",
        "#              deste número (use for)"
      ],
      "outputs": [],
      "metadata": {
        "id": "jl9UnlhH-D0e"
      }
    },
    {
      "cell_type": "code",
      "execution_count": null,
      "source": [
        "# Exercício 3: Escreva um script que pede para o usuário um número até que \n",
        "#              ele acerte o valor definido abaixo"
      ],
      "outputs": [],
      "metadata": {
        "id": "UOileDagvzzr"
      }
    }
  ]
}